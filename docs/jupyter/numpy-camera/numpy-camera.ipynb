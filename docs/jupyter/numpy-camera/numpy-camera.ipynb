{
 "cells": [
  {
   "cell_type": "markdown",
   "metadata": {},
   "source": [
    "![](https://i.pinimg.com/564x/d9/bc/aa/d9bcaa0a691f4bc21b493f6fa8dceab1.jpg)\n",
    "\n",
    "# Numpy Camera\n",
    "\n",
    "Kevin J. Walchko, Phd\n",
    "\n",
    "XX\n",
    "\n",
    "[![](https://i.creativecommons.org/l/by-sa/4.0/88x31.png)](http://creativecommons.org/licenses/by-sa/4.0/)\n",
    "\n",
    "---\n",
    "\n",
    "\n",
    "![](pinhole_model.png)\n",
    "\n"
   ]
  },
  {
   "cell_type": "code",
   "execution_count": 1,
   "metadata": {},
   "outputs": [],
   "source": [
    "# reload library\n",
    "%load_ext autoreload\n",
    "%autoreload 2"
   ]
  },
  {
   "cell_type": "code",
   "execution_count": 2,
   "metadata": {},
   "outputs": [],
   "source": [
    "import numpy as np # matrix manipulations\n",
    "from numpy.testing import assert_allclose\n",
    "np.set_printoptions(precision=1)\n",
    "np.set_printoptions(suppress=True)\n",
    "from numpy import sin, cos, pi\n",
    "\n",
    "%matplotlib inline\n",
    "from matplotlib import pyplot as plt\n",
    "\n",
    "import cv2  # drawing"
   ]
  },
  {
   "cell_type": "code",
   "execution_count": 3,
   "metadata": {},
   "outputs": [],
   "source": [
    "from numpy_camera import PinholeCamera\n",
    "from rotations.rotations import R313"
   ]
  },
  {
   "cell_type": "code",
   "execution_count": 4,
   "metadata": {},
   "outputs": [
    {
     "name": "stdout",
     "output_type": "stream",
     "text": [
      "[[505.7   0.  320. ]\n",
      " [  0.  606.8 240. ]\n",
      " [  0.    0.    1. ]]\n",
      "[[ 0. -1.  0.  0.]\n",
      " [ 0.  0. -1.  0.]\n",
      " [ 1.  0.  0.  0.]]\n"
     ]
    }
   ],
   "source": [
    "pc = PinholeCamera()\n",
    "pc.set_piv2(640,480,R=R313(0,90,90,degrees=True)) # wtf!!!\n",
    "print(pc.K)\n",
    "print(pc.Rt)"
   ]
  },
  {
   "cell_type": "code",
   "execution_count": 15,
   "metadata": {},
   "outputs": [
    {
     "name": "stdout",
     "output_type": "stream",
     "text": [
      "(3, 80)\n",
      "================================\n",
      "[[505.7   0.  320. ]\n",
      " [  0.  606.8 240. ]\n",
      " [  0.    0.    1. ]]\n",
      "================================\n",
      "(3, 80)\n"
     ]
    }
   ],
   "source": [
    "r=10\n",
    "pts = []\n",
    "for i in range(-40,40):\n",
    "    x = r*cos(pi*i/180)\n",
    "    y = r*sin(pi*i/180)\n",
    "    z = 2\n",
    "    pts.append([x,y,z])\n",
    "    \n",
    "pts = np.array(pts).T\n",
    "    \n",
    "print(pts.shape)\n",
    "# print(pts)\n",
    "\n",
    "print(\"================================\")\n",
    "\n",
    "print(pc.K)\n",
    "\n",
    "print(\"================================\")\n",
    "\n",
    "n = pts.shape[1]\n",
    "pts = np.vstack((pts, np.ones(n)))\n",
    "a = pc.K @ pc.Rt @ pts\n",
    "a /= a[2, :]\n",
    "print(a.shape)\n",
    "# print(\"camera space\\n\",a[:2,:].T)"
   ]
  },
  {
   "cell_type": "code",
   "execution_count": 16,
   "metadata": {},
   "outputs": [
    {
     "data": {
      "image/png": "[encoded data removed]",
      "text/plain": [
       "<Figure size 432x288 with 1 Axes>"
      ]
     },
     "metadata": {},
     "output_type": "display_data"
    }
   ],
   "source": [
    "pts_2d = a\n",
    "\n",
    "img_width = pc.shape.w\n",
    "img_height = pc.shape.h\n",
    "\n",
    "# Filter points to be within image FOV\n",
    "inds = np.where((pts_2d[0, :] < img_width) & (pts_2d[0, :] >= 0) &\n",
    "                (pts_2d[1, :] < img_height) & (pts_2d[1, :] >= 0) \n",
    "                )[0]\n",
    "\n",
    "# # Filter out pixels points\n",
    "imgfov_pc_pixel = pts_2d[:, inds]\n",
    "\n",
    "# make depth\n",
    "l = imgfov_pc_pixel.shape[1]\n",
    "imgfov_pc_cam2 = np.array([10]*l)\n",
    "\n",
    "# # Retrieve depth from lidar\n",
    "# imgfov_pc_velo = pts_velo[inds, :]\n",
    "# imgfov_pc_velo = np.hstack((imgfov_pc_velo, np.ones((imgfov_pc_velo.shape[0], 1))))\n",
    "# imgfov_pc_cam2 = proj_velo2cam2 @ imgfov_pc_velo.transpose()\n",
    "\n",
    "cmap = plt.cm.get_cmap('hsv', 256)\n",
    "cmap = np.array([cmap(i) for i in range(256)])[:, :3] * 255\n",
    "\n",
    "img = np.zeros((img_height,img_width,3),dtype=np.int8)\n",
    "\n",
    "for i in range(imgfov_pc_pixel.shape[1]):\n",
    "    depth = imgfov_pc_cam2[i]\n",
    "    color = cmap[int(640.0 / depth), :]\n",
    "    cv2.circle(\n",
    "        img,\n",
    "       (int(np.round(imgfov_pc_pixel[0, i])),\n",
    "        int(np.round(imgfov_pc_pixel[1, i]))),\n",
    "       10, color=tuple(color), thickness=-1)\n",
    "plt.imshow(img)\n",
    "plt.yticks([])\n",
    "plt.xticks([])\n",
    "plt.show()"
   ]
  },
  {
   "cell_type": "code",
   "execution_count": 18,
   "metadata": {},
   "outputs": [
    {
     "name": "stdout",
     "output_type": "stream",
     "text": [
      "32.44\n",
      "{'cx': 22}\n"
     ]
    }
   ],
   "source": [
    "dd={\"f\":(32.44),\"cx\":22}\n",
    "if \"f\" in dd:\n",
    "    print(dd[\"f\"])\n",
    "    dd.pop(\"f\")\n",
    "    \n",
    "print(dd)"
   ]
  },
  {
   "cell_type": "code",
   "execution_count": null,
   "metadata": {},
   "outputs": [],
   "source": []
  }
 ],
 "metadata": {
  "kernelspec": {
   "display_name": "Python 3",
   "language": "python",
   "name": "python3"
  },
  "language_info": {
   "codemirror_mode": {
    "name": "ipython",
    "version": 3
   },
   "file_extension": ".py",
   "mimetype": "text/x-python",
   "name": "python",
   "nbconvert_exporter": "python",
   "pygments_lexer": "ipython3",
   "version": "3.8.3"
  }
 },
 "nbformat": 4,
 "nbformat_minor": 4
}
